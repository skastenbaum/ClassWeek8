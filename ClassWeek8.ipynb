{
 "cells": [
  {
   "cell_type": "code",
   "execution_count": 2,
   "id": "edfe4ef7-8100-45f1-b0f0-eb9fe5da1e61",
   "metadata": {},
   "outputs": [],
   "source": [
    "import pandas as pd"
   ]
  },
  {
   "cell_type": "code",
   "execution_count": 6,
   "id": "a529819a-9f14-49d7-9f0e-3cffc66b8a83",
   "metadata": {},
   "outputs": [
    {
     "data": {
      "text/html": [
       "<div>\n",
       "<style scoped>\n",
       "    .dataframe tbody tr th:only-of-type {\n",
       "        vertical-align: middle;\n",
       "    }\n",
       "\n",
       "    .dataframe tbody tr th {\n",
       "        vertical-align: top;\n",
       "    }\n",
       "\n",
       "    .dataframe thead th {\n",
       "        text-align: right;\n",
       "    }\n",
       "</style>\n",
       "<table border=\"1\" class=\"dataframe\">\n",
       "  <thead>\n",
       "    <tr style=\"text-align: right;\">\n",
       "      <th></th>\n",
       "      <th>OPE ID</th>\n",
       "      <th>School</th>\n",
       "      <th>State</th>\n",
       "      <th>zip</th>\n",
       "      <th>School Type</th>\n",
       "      <th>dl_sub_#</th>\n",
       "      <th>dl_sub_$</th>\n",
       "      <th>dl_unsub_#</th>\n",
       "      <th>dl_unsub_$</th>\n",
       "      <th>academic_year</th>\n",
       "      <th>Quarter</th>\n",
       "    </tr>\n",
       "  </thead>\n",
       "  <tbody>\n",
       "    <tr>\n",
       "      <th>0</th>\n",
       "      <td>100200</td>\n",
       "      <td>ALABAMA AGRICULTURAL &amp; MECHANICAL UNIVERSITY</td>\n",
       "      <td>AL</td>\n",
       "      <td>35762</td>\n",
       "      <td>Public</td>\n",
       "      <td>1784.0</td>\n",
       "      <td>3800011.0</td>\n",
       "      <td>1696.0</td>\n",
       "      <td>2827818.0</td>\n",
       "      <td>2021-2022</td>\n",
       "      <td>1</td>\n",
       "    </tr>\n",
       "    <tr>\n",
       "      <th>1</th>\n",
       "      <td>100300</td>\n",
       "      <td>FAULKNER UNIVERSITY</td>\n",
       "      <td>AL</td>\n",
       "      <td>36109</td>\n",
       "      <td>Private-Nonprofit</td>\n",
       "      <td>822.0</td>\n",
       "      <td>1313372.0</td>\n",
       "      <td>897.0</td>\n",
       "      <td>1239907.0</td>\n",
       "      <td>2021-2022</td>\n",
       "      <td>1</td>\n",
       "    </tr>\n",
       "    <tr>\n",
       "      <th>2</th>\n",
       "      <td>100400</td>\n",
       "      <td>UNIVERSITY OF MONTEVALLO</td>\n",
       "      <td>AL</td>\n",
       "      <td>35115</td>\n",
       "      <td>Public</td>\n",
       "      <td>911.0</td>\n",
       "      <td>1866171.0</td>\n",
       "      <td>1069.0</td>\n",
       "      <td>2015867.0</td>\n",
       "      <td>2021-2022</td>\n",
       "      <td>1</td>\n",
       "    </tr>\n",
       "    <tr>\n",
       "      <th>3</th>\n",
       "      <td>100500</td>\n",
       "      <td>ALABAMA STATE UNIVERSITY</td>\n",
       "      <td>AL</td>\n",
       "      <td>36104</td>\n",
       "      <td>Public</td>\n",
       "      <td>991.0</td>\n",
       "      <td>2229604.0</td>\n",
       "      <td>1020.0</td>\n",
       "      <td>1647129.0</td>\n",
       "      <td>2021-2022</td>\n",
       "      <td>1</td>\n",
       "    </tr>\n",
       "    <tr>\n",
       "      <th>4</th>\n",
       "      <td>100700</td>\n",
       "      <td>CENTRAL ALABAMA COMMUNITY COLLEGE</td>\n",
       "      <td>AL</td>\n",
       "      <td>35010</td>\n",
       "      <td>Public</td>\n",
       "      <td>161.0</td>\n",
       "      <td>288345.0</td>\n",
       "      <td>69.0</td>\n",
       "      <td>102226.0</td>\n",
       "      <td>2021-2022</td>\n",
       "      <td>1</td>\n",
       "    </tr>\n",
       "    <tr>\n",
       "      <th>...</th>\n",
       "      <td>...</td>\n",
       "      <td>...</td>\n",
       "      <td>...</td>\n",
       "      <td>...</td>\n",
       "      <td>...</td>\n",
       "      <td>...</td>\n",
       "      <td>...</td>\n",
       "      <td>...</td>\n",
       "      <td>...</td>\n",
       "      <td>...</td>\n",
       "      <td>...</td>\n",
       "    </tr>\n",
       "    <tr>\n",
       "      <th>8609</th>\n",
       "      <td>4298800</td>\n",
       "      <td>SALON PROFESSIONAL ACADEMY (THE)</td>\n",
       "      <td>NJ</td>\n",
       "      <td>7731</td>\n",
       "      <td>Proprietary</td>\n",
       "      <td>14.0</td>\n",
       "      <td>19828.0</td>\n",
       "      <td>15.0</td>\n",
       "      <td>18578.0</td>\n",
       "      <td>2022-2023</td>\n",
       "      <td>1</td>\n",
       "    </tr>\n",
       "    <tr>\n",
       "      <th>8610</th>\n",
       "      <td>4300500</td>\n",
       "      <td>TOP OF THE LINE BARBER SCHOOL</td>\n",
       "      <td>TX</td>\n",
       "      <td>78218</td>\n",
       "      <td>Proprietary</td>\n",
       "      <td>4.0</td>\n",
       "      <td>7000.0</td>\n",
       "      <td>4.0</td>\n",
       "      <td>10000.0</td>\n",
       "      <td>2022-2023</td>\n",
       "      <td>1</td>\n",
       "    </tr>\n",
       "    <tr>\n",
       "      <th>8611</th>\n",
       "      <td>4302900</td>\n",
       "      <td>BARBERS TRADE SCHOOL</td>\n",
       "      <td>TX</td>\n",
       "      <td>77701</td>\n",
       "      <td>Proprietary</td>\n",
       "      <td>5.0</td>\n",
       "      <td>8750.0</td>\n",
       "      <td>5.0</td>\n",
       "      <td>13000.0</td>\n",
       "      <td>2022-2023</td>\n",
       "      <td>1</td>\n",
       "    </tr>\n",
       "    <tr>\n",
       "      <th>8612</th>\n",
       "      <td>4303000</td>\n",
       "      <td>ACADEMIA MEDICAL INSTITUTE</td>\n",
       "      <td>OH</td>\n",
       "      <td>43204</td>\n",
       "      <td>Proprietary</td>\n",
       "      <td>15.0</td>\n",
       "      <td>24962.0</td>\n",
       "      <td>15.0</td>\n",
       "      <td>13877.0</td>\n",
       "      <td>2022-2023</td>\n",
       "      <td>1</td>\n",
       "    </tr>\n",
       "    <tr>\n",
       "      <th>8613</th>\n",
       "      <td>4304600</td>\n",
       "      <td>LEGENDS BARBER COLLEGE</td>\n",
       "      <td>TX</td>\n",
       "      <td>75904</td>\n",
       "      <td>Proprietary</td>\n",
       "      <td>5.0</td>\n",
       "      <td>8750.0</td>\n",
       "      <td>5.0</td>\n",
       "      <td>9225.0</td>\n",
       "      <td>2022-2023</td>\n",
       "      <td>1</td>\n",
       "    </tr>\n",
       "  </tbody>\n",
       "</table>\n",
       "<p>8614 rows × 11 columns</p>\n",
       "</div>"
      ],
      "text/plain": [
       "       OPE ID                                        School State    zip  \\\n",
       "0      100200  ALABAMA AGRICULTURAL & MECHANICAL UNIVERSITY    AL  35762   \n",
       "1      100300                           FAULKNER UNIVERSITY    AL  36109   \n",
       "2      100400                      UNIVERSITY OF MONTEVALLO    AL  35115   \n",
       "3      100500                      ALABAMA STATE UNIVERSITY    AL  36104   \n",
       "4      100700             CENTRAL ALABAMA COMMUNITY COLLEGE    AL  35010   \n",
       "...       ...                                           ...   ...    ...   \n",
       "8609  4298800              SALON PROFESSIONAL ACADEMY (THE)    NJ   7731   \n",
       "8610  4300500                 TOP OF THE LINE BARBER SCHOOL    TX  78218   \n",
       "8611  4302900                          BARBERS TRADE SCHOOL    TX  77701   \n",
       "8612  4303000                    ACADEMIA MEDICAL INSTITUTE    OH  43204   \n",
       "8613  4304600                        LEGENDS BARBER COLLEGE    TX  75904   \n",
       "\n",
       "            School Type  dl_sub_#   dl_sub_$  dl_unsub_#  dl_unsub_$  \\\n",
       "0                Public    1784.0  3800011.0      1696.0   2827818.0   \n",
       "1     Private-Nonprofit     822.0  1313372.0       897.0   1239907.0   \n",
       "2                Public     911.0  1866171.0      1069.0   2015867.0   \n",
       "3                Public     991.0  2229604.0      1020.0   1647129.0   \n",
       "4                Public     161.0   288345.0        69.0    102226.0   \n",
       "...                 ...       ...        ...         ...         ...   \n",
       "8609        Proprietary      14.0    19828.0        15.0     18578.0   \n",
       "8610        Proprietary       4.0     7000.0         4.0     10000.0   \n",
       "8611        Proprietary       5.0     8750.0         5.0     13000.0   \n",
       "8612        Proprietary      15.0    24962.0        15.0     13877.0   \n",
       "8613        Proprietary       5.0     8750.0         5.0      9225.0   \n",
       "\n",
       "     academic_year  Quarter  \n",
       "0        2021-2022        1  \n",
       "1        2021-2022        1  \n",
       "2        2021-2022        1  \n",
       "3        2021-2022        1  \n",
       "4        2021-2022        1  \n",
       "...            ...      ...  \n",
       "8609     2022-2023        1  \n",
       "8610     2022-2023        1  \n",
       "8611     2022-2023        1  \n",
       "8612     2022-2023        1  \n",
       "8613     2022-2023        1  \n",
       "\n",
       "[8614 rows x 11 columns]"
      ]
     },
     "execution_count": 6,
     "metadata": {},
     "output_type": "execute_result"
    }
   ],
   "source": [
    "df = pd.read_csv(\"https://raw.githubusercontent.com/sandeepmj/datasets/main/student-loan-data-comparable-quarters.csv\")\n",
    "df"
   ]
  },
  {
   "cell_type": "code",
   "execution_count": 8,
   "id": "3d9062e1-948e-48e4-b1e3-860c299ccf1e",
   "metadata": {},
   "outputs": [
    {
     "name": "stdout",
     "output_type": "stream",
     "text": [
      "<class 'pandas.core.frame.DataFrame'>\n",
      "RangeIndex: 8614 entries, 0 to 8613\n",
      "Data columns (total 11 columns):\n",
      " #   Column         Non-Null Count  Dtype  \n",
      "---  ------         --------------  -----  \n",
      " 0   OPE ID         8614 non-null   int64  \n",
      " 1   School         8614 non-null   object \n",
      " 2   State          8251 non-null   object \n",
      " 3   zip            8614 non-null   object \n",
      " 4   School Type    8614 non-null   object \n",
      " 5   dl_sub_#       7972 non-null   float64\n",
      " 6   dl_sub_$       7972 non-null   float64\n",
      " 7   dl_unsub_#     7975 non-null   float64\n",
      " 8   dl_unsub_$     7975 non-null   float64\n",
      " 9   academic_year  8614 non-null   object \n",
      " 10  Quarter        8614 non-null   int64  \n",
      "dtypes: float64(4), int64(2), object(5)\n",
      "memory usage: 740.4+ KB\n"
     ]
    }
   ],
   "source": [
    "df.info()"
   ]
  },
  {
   "cell_type": "code",
   "execution_count": null,
   "id": "3a69655e-1d17-45f0-9aa2-869308e849d9",
   "metadata": {},
   "outputs": [],
   "source": [
    "## dataframe.describe() Returns summary data for all columns with numerical values.\n",
    "## count\n",
    "## mean\n",
    "## standard deviation\n",
    "## minimum value\n",
    "## 25th, 50th and 75th percentiles\n",
    "## maximum value"
   ]
  },
  {
   "cell_type": "code",
   "execution_count": 9,
   "id": "98c7ffbb-93f4-404d-90bf-164b6083addf",
   "metadata": {},
   "outputs": [
    {
     "data": {
      "text/html": [
       "<div>\n",
       "<style scoped>\n",
       "    .dataframe tbody tr th:only-of-type {\n",
       "        vertical-align: middle;\n",
       "    }\n",
       "\n",
       "    .dataframe tbody tr th {\n",
       "        vertical-align: top;\n",
       "    }\n",
       "\n",
       "    .dataframe thead th {\n",
       "        text-align: right;\n",
       "    }\n",
       "</style>\n",
       "<table border=\"1\" class=\"dataframe\">\n",
       "  <thead>\n",
       "    <tr style=\"text-align: right;\">\n",
       "      <th></th>\n",
       "      <th>OPE ID</th>\n",
       "      <th>dl_sub_#</th>\n",
       "      <th>dl_sub_$</th>\n",
       "      <th>dl_unsub_#</th>\n",
       "      <th>dl_unsub_$</th>\n",
       "      <th>Quarter</th>\n",
       "    </tr>\n",
       "  </thead>\n",
       "  <tbody>\n",
       "    <tr>\n",
       "      <th>count</th>\n",
       "      <td>8.614000e+03</td>\n",
       "      <td>7972.000000</td>\n",
       "      <td>7.972000e+03</td>\n",
       "      <td>7975.000000</td>\n",
       "      <td>7.975000e+03</td>\n",
       "      <td>8614.0</td>\n",
       "    </tr>\n",
       "    <tr>\n",
       "      <th>mean</th>\n",
       "      <td>1.630314e+06</td>\n",
       "      <td>630.836051</td>\n",
       "      <td>1.239051e+06</td>\n",
       "      <td>686.005266</td>\n",
       "      <td>1.346809e+06</td>\n",
       "      <td>1.0</td>\n",
       "    </tr>\n",
       "    <tr>\n",
       "      <th>std</th>\n",
       "      <td>1.558731e+06</td>\n",
       "      <td>1412.327943</td>\n",
       "      <td>2.814541e+06</td>\n",
       "      <td>1555.280596</td>\n",
       "      <td>3.127407e+06</td>\n",
       "      <td>0.0</td>\n",
       "    </tr>\n",
       "    <tr>\n",
       "      <th>min</th>\n",
       "      <td>1.002000e+05</td>\n",
       "      <td>1.000000</td>\n",
       "      <td>6.800000e+01</td>\n",
       "      <td>1.000000</td>\n",
       "      <td>1.420000e+02</td>\n",
       "      <td>1.0</td>\n",
       "    </tr>\n",
       "    <tr>\n",
       "      <th>25%</th>\n",
       "      <td>2.853250e+05</td>\n",
       "      <td>19.000000</td>\n",
       "      <td>2.814250e+04</td>\n",
       "      <td>18.000000</td>\n",
       "      <td>3.269300e+04</td>\n",
       "      <td>1.0</td>\n",
       "    </tr>\n",
       "    <tr>\n",
       "      <th>50%</th>\n",
       "      <td>8.447500e+05</td>\n",
       "      <td>135.500000</td>\n",
       "      <td>2.195570e+05</td>\n",
       "      <td>136.000000</td>\n",
       "      <td>2.527800e+05</td>\n",
       "      <td>1.0</td>\n",
       "    </tr>\n",
       "    <tr>\n",
       "      <th>75%</th>\n",
       "      <td>3.099750e+06</td>\n",
       "      <td>600.000000</td>\n",
       "      <td>1.202372e+06</td>\n",
       "      <td>660.000000</td>\n",
       "      <td>1.264352e+06</td>\n",
       "      <td>1.0</td>\n",
       "    </tr>\n",
       "    <tr>\n",
       "      <th>max</th>\n",
       "      <td>4.304600e+06</td>\n",
       "      <td>24266.000000</td>\n",
       "      <td>5.200398e+07</td>\n",
       "      <td>26887.000000</td>\n",
       "      <td>7.101271e+07</td>\n",
       "      <td>1.0</td>\n",
       "    </tr>\n",
       "  </tbody>\n",
       "</table>\n",
       "</div>"
      ],
      "text/plain": [
       "             OPE ID      dl_sub_#      dl_sub_$    dl_unsub_#    dl_unsub_$  \\\n",
       "count  8.614000e+03   7972.000000  7.972000e+03   7975.000000  7.975000e+03   \n",
       "mean   1.630314e+06    630.836051  1.239051e+06    686.005266  1.346809e+06   \n",
       "std    1.558731e+06   1412.327943  2.814541e+06   1555.280596  3.127407e+06   \n",
       "min    1.002000e+05      1.000000  6.800000e+01      1.000000  1.420000e+02   \n",
       "25%    2.853250e+05     19.000000  2.814250e+04     18.000000  3.269300e+04   \n",
       "50%    8.447500e+05    135.500000  2.195570e+05    136.000000  2.527800e+05   \n",
       "75%    3.099750e+06    600.000000  1.202372e+06    660.000000  1.264352e+06   \n",
       "max    4.304600e+06  24266.000000  5.200398e+07  26887.000000  7.101271e+07   \n",
       "\n",
       "       Quarter  \n",
       "count   8614.0  \n",
       "mean       1.0  \n",
       "std        0.0  \n",
       "min        1.0  \n",
       "25%        1.0  \n",
       "50%        1.0  \n",
       "75%        1.0  \n",
       "max        1.0  "
      ]
     },
     "execution_count": 9,
     "metadata": {},
     "output_type": "execute_result"
    }
   ],
   "source": [
    "df.describe()"
   ]
  },
  {
   "cell_type": "code",
   "execution_count": null,
   "id": "a4c96b02-3920-45c5-81a3-b1fe3a0e09eb",
   "metadata": {},
   "outputs": [],
   "source": [
    "## Reformatting the dataframe\n",
    "## The number are returned as scientific notation or big numbers with many decimal places. To change the default display, we can use:\n",
    "## pd.options.display.float_format = '{:,.0f}'.format - you can change this to include one or two decimal points\n",
    "## PUT THIS AT THE TOP OF EVERY NOTEBOOK"
   ]
  },
  {
   "cell_type": "code",
   "execution_count": 10,
   "id": "58d15e40-4bea-4efd-8043-a72a5bb11fc8",
   "metadata": {},
   "outputs": [],
   "source": [
    "pd.options.display.float_format = '{:,.0f}'.format"
   ]
  },
  {
   "cell_type": "code",
   "execution_count": 11,
   "id": "ad2139ea-e34d-4a24-af9a-b8ee599b6e67",
   "metadata": {},
   "outputs": [
    {
     "data": {
      "text/html": [
       "<div>\n",
       "<style scoped>\n",
       "    .dataframe tbody tr th:only-of-type {\n",
       "        vertical-align: middle;\n",
       "    }\n",
       "\n",
       "    .dataframe tbody tr th {\n",
       "        vertical-align: top;\n",
       "    }\n",
       "\n",
       "    .dataframe thead th {\n",
       "        text-align: right;\n",
       "    }\n",
       "</style>\n",
       "<table border=\"1\" class=\"dataframe\">\n",
       "  <thead>\n",
       "    <tr style=\"text-align: right;\">\n",
       "      <th></th>\n",
       "      <th>OPE ID</th>\n",
       "      <th>dl_sub_#</th>\n",
       "      <th>dl_sub_$</th>\n",
       "      <th>dl_unsub_#</th>\n",
       "      <th>dl_unsub_$</th>\n",
       "      <th>Quarter</th>\n",
       "    </tr>\n",
       "  </thead>\n",
       "  <tbody>\n",
       "    <tr>\n",
       "      <th>count</th>\n",
       "      <td>8,614</td>\n",
       "      <td>7,972</td>\n",
       "      <td>7,972</td>\n",
       "      <td>7,975</td>\n",
       "      <td>7,975</td>\n",
       "      <td>8,614</td>\n",
       "    </tr>\n",
       "    <tr>\n",
       "      <th>mean</th>\n",
       "      <td>1,630,314</td>\n",
       "      <td>631</td>\n",
       "      <td>1,239,051</td>\n",
       "      <td>686</td>\n",
       "      <td>1,346,809</td>\n",
       "      <td>1</td>\n",
       "    </tr>\n",
       "    <tr>\n",
       "      <th>std</th>\n",
       "      <td>1,558,731</td>\n",
       "      <td>1,412</td>\n",
       "      <td>2,814,541</td>\n",
       "      <td>1,555</td>\n",
       "      <td>3,127,407</td>\n",
       "      <td>0</td>\n",
       "    </tr>\n",
       "    <tr>\n",
       "      <th>min</th>\n",
       "      <td>100,200</td>\n",
       "      <td>1</td>\n",
       "      <td>68</td>\n",
       "      <td>1</td>\n",
       "      <td>142</td>\n",
       "      <td>1</td>\n",
       "    </tr>\n",
       "    <tr>\n",
       "      <th>25%</th>\n",
       "      <td>285,325</td>\n",
       "      <td>19</td>\n",
       "      <td>28,142</td>\n",
       "      <td>18</td>\n",
       "      <td>32,693</td>\n",
       "      <td>1</td>\n",
       "    </tr>\n",
       "    <tr>\n",
       "      <th>50%</th>\n",
       "      <td>844,750</td>\n",
       "      <td>136</td>\n",
       "      <td>219,557</td>\n",
       "      <td>136</td>\n",
       "      <td>252,780</td>\n",
       "      <td>1</td>\n",
       "    </tr>\n",
       "    <tr>\n",
       "      <th>75%</th>\n",
       "      <td>3,099,750</td>\n",
       "      <td>600</td>\n",
       "      <td>1,202,372</td>\n",
       "      <td>660</td>\n",
       "      <td>1,264,352</td>\n",
       "      <td>1</td>\n",
       "    </tr>\n",
       "    <tr>\n",
       "      <th>max</th>\n",
       "      <td>4,304,600</td>\n",
       "      <td>24,266</td>\n",
       "      <td>52,003,984</td>\n",
       "      <td>26,887</td>\n",
       "      <td>71,012,713</td>\n",
       "      <td>1</td>\n",
       "    </tr>\n",
       "  </tbody>\n",
       "</table>\n",
       "</div>"
      ],
      "text/plain": [
       "         OPE ID  dl_sub_#   dl_sub_$  dl_unsub_#  dl_unsub_$  Quarter\n",
       "count     8,614     7,972      7,972       7,975       7,975    8,614\n",
       "mean  1,630,314       631  1,239,051         686   1,346,809        1\n",
       "std   1,558,731     1,412  2,814,541       1,555   3,127,407        0\n",
       "min     100,200         1         68           1         142        1\n",
       "25%     285,325        19     28,142          18      32,693        1\n",
       "50%     844,750       136    219,557         136     252,780        1\n",
       "75%   3,099,750       600  1,202,372         660   1,264,352        1\n",
       "max   4,304,600    24,266 52,003,984      26,887  71,012,713        1"
      ]
     },
     "execution_count": 11,
     "metadata": {},
     "output_type": "execute_result"
    }
   ],
   "source": [
    "df.describe()"
   ]
  },
  {
   "cell_type": "code",
   "execution_count": 12,
   "id": "edbe56bd-e2a3-4913-baf1-6591624c1ad4",
   "metadata": {},
   "outputs": [
    {
     "data": {
      "text/plain": [
       "9877712740.0"
      ]
     },
     "execution_count": 12,
     "metadata": {},
     "output_type": "execute_result"
    }
   ],
   "source": [
    "## what is the total $ for ALL direct subsidized loans\n",
    "df[\"dl_sub_$\"].sum()"
   ]
  },
  {
   "cell_type": "code",
   "execution_count": 17,
   "id": "9177bd1f-6067-4abb-9a44-416596125c0f",
   "metadata": {},
   "outputs": [
    {
     "data": {
      "text/plain": [
       "52003984.0"
      ]
     },
     "execution_count": 17,
     "metadata": {},
     "output_type": "execute_result"
    }
   ],
   "source": [
    "## get the max for total direct subsized loans\n",
    "df[\"dl_sub_$\"].max()"
   ]
  },
  {
   "cell_type": "code",
   "execution_count": 18,
   "id": "ed957b93-33ba-4579-8665-0d1a3a446377",
   "metadata": {},
   "outputs": [
    {
     "name": "stdout",
     "output_type": "stream",
     "text": [
      "52,003,984\n"
     ]
    }
   ],
   "source": [
    "print(f\"{df['dl_sub_$'].max():,.0f}\")"
   ]
  },
  {
   "cell_type": "code",
   "execution_count": 14,
   "id": "55aeed97-044d-48e3-be64-9c2209815471",
   "metadata": {},
   "outputs": [
    {
     "data": {
      "text/plain": [
       "68.0"
      ]
     },
     "execution_count": 14,
     "metadata": {},
     "output_type": "execute_result"
    }
   ],
   "source": [
    "## get the minimum for total direct subsized loans\n",
    "df[\"dl_sub_$\"].min()"
   ]
  },
  {
   "cell_type": "code",
   "execution_count": null,
   "id": "03b8174f-c888-4bcd-92c9-b84b49c30def",
   "metadata": {},
   "outputs": [],
   "source": [
    "## f-string literals\n",
    "## We might want to put it into sentence for our editors"
   ]
  },
  {
   "cell_type": "code",
   "execution_count": 15,
   "id": "c50ae8e3-e152-43d5-9f42-859170b8b528",
   "metadata": {},
   "outputs": [
    {
     "data": {
      "text/plain": [
       "'The total for all direct subsidized loans in Q1 of academic years 2021-2023 was $9,877,712,740'"
      ]
     },
     "execution_count": 15,
     "metadata": {},
     "output_type": "execute_result"
    }
   ],
   "source": [
    "## what is the total $ for ALL direct subsidized loans\n",
    "## format with dollar sign and thousands separators, the dollar sign has to go outside the {}\n",
    "## place in a nice sentence\n",
    "\n",
    "f\"The total for all direct subsidized loans in Q1 of academic years 2021-2023 \\\n",
    "was ${df['dl_sub_$'].sum():,.0F}\""
   ]
  },
  {
   "cell_type": "code",
   "execution_count": 19,
   "id": "f847e5b8-4916-4d26-a9d5-402994510dde",
   "metadata": {},
   "outputs": [
    {
     "data": {
      "text/plain": [
       "1239050.7701956849"
      ]
     },
     "execution_count": 19,
     "metadata": {},
     "output_type": "execute_result"
    }
   ],
   "source": [
    "## what is the mean loan amount for ALL direct subsidized loans\n",
    "df[\"dl_sub_$\"].mean()"
   ]
  },
  {
   "cell_type": "code",
   "execution_count": 20,
   "id": "b7caaaf0-e258-4e45-a685-d34bf93eb5c3",
   "metadata": {},
   "outputs": [
    {
     "data": {
      "text/plain": [
       "2814540.8940481567"
      ]
     },
     "execution_count": 20,
     "metadata": {},
     "output_type": "execute_result"
    }
   ],
   "source": [
    "## When looking for the standard deviation, the result you get is the STD. 35% of results are on either side of it\n",
    "df[\"dl_sub_$\"].std()"
   ]
  },
  {
   "cell_type": "code",
   "execution_count": 21,
   "id": "79d56870-1ea5-4e8b-a708-a2aa769122c4",
   "metadata": {},
   "outputs": [
    {
     "data": {
      "text/plain": [
       "dl_sub_$     219,557\n",
       "dl_unsub_$   252,780\n",
       "dtype: float64"
      ]
     },
     "execution_count": 21,
     "metadata": {},
     "output_type": "execute_result"
    }
   ],
   "source": [
    "## This is checking for multiple columns, return the median for subsidized loans, unsubsidized loans amounts\n",
    "df[[\"dl_sub_$\", \"dl_unsub_$\"]].median()"
   ]
  },
  {
   "cell_type": "code",
   "execution_count": 22,
   "id": "5f7b4aed-db4e-4215-ad2a-4450a19b08db",
   "metadata": {},
   "outputs": [
    {
     "data": {
      "text/plain": [
       "dl_sub_$      9,877,712,740\n",
       "dl_unsub_$   10,740,802,223\n",
       "dtype: float64"
      ]
     },
     "execution_count": 22,
     "metadata": {},
     "output_type": "execute_result"
    }
   ],
   "source": [
    "## return the sum for subsidized loans, unsubsidized loans amounts\n",
    "df[[\"dl_sub_$\", \"dl_unsub_$\"]].sum()"
   ]
  },
  {
   "cell_type": "code",
   "execution_count": 24,
   "id": "56c6b2d6-48b3-4699-98b1-02ee4c4eee47",
   "metadata": {},
   "outputs": [
    {
     "data": {
      "text/html": [
       "<div>\n",
       "<style scoped>\n",
       "    .dataframe tbody tr th:only-of-type {\n",
       "        vertical-align: middle;\n",
       "    }\n",
       "\n",
       "    .dataframe tbody tr th {\n",
       "        vertical-align: top;\n",
       "    }\n",
       "\n",
       "    .dataframe thead th {\n",
       "        text-align: right;\n",
       "    }\n",
       "</style>\n",
       "<table border=\"1\" class=\"dataframe\">\n",
       "  <thead>\n",
       "    <tr style=\"text-align: right;\">\n",
       "      <th></th>\n",
       "      <th>Total Loan Amounts</th>\n",
       "    </tr>\n",
       "  </thead>\n",
       "  <tbody>\n",
       "    <tr>\n",
       "      <th>dl_sub_$</th>\n",
       "      <td>9,877,712,740</td>\n",
       "    </tr>\n",
       "    <tr>\n",
       "      <th>dl_unsub_$</th>\n",
       "      <td>10,740,802,223</td>\n",
       "    </tr>\n",
       "  </tbody>\n",
       "</table>\n",
       "</div>"
      ],
      "text/plain": [
       "            Total Loan Amounts\n",
       "dl_sub_$         9,877,712,740\n",
       "dl_unsub_$      10,740,802,223"
      ]
     },
     "execution_count": 24,
     "metadata": {},
     "output_type": "execute_result"
    }
   ],
   "source": [
    "## series.to_frame() Return data in an easier to read format\n",
    "### return the sum for subsidized loans, unsubsidized loans amounts\n",
    "## to frame\n",
    "df[[\"dl_sub_$\", \"dl_unsub_$\"]].sum().to_frame(\"Total Loan Amounts\")"
   ]
  },
  {
   "cell_type": "code",
   "execution_count": null,
   "id": "34350db7-6d44-4758-9218-450d97918a11",
   "metadata": {},
   "outputs": [],
   "source": [
    "## AFGREGATE()\n",
    "## The aggregate() method is really powerful (and a time saver). It allows us to apply one or more aggregate functions to a DataFrame or a Series.\n",
    "## Note that .aggregate() has an alias of .agg(). We can use them interchangeably, but agg() is far more commonly used.\n",
    "## Single columns with multiple statistical summaries\n",
    "## dataframe[\"col_1\"].agg([\"mean\",\"sum\"])"
   ]
  },
  {
   "cell_type": "code",
   "execution_count": 25,
   "id": "6b6150bb-bf67-4b8f-b9c1-36b1424ab77d",
   "metadata": {},
   "outputs": [
    {
     "data": {
      "text/plain": [
       "0      3,800,011\n",
       "1      1,313,372\n",
       "2      1,866,171\n",
       "3      2,229,604\n",
       "4        288,345\n",
       "          ...   \n",
       "8609      19,828\n",
       "8610       7,000\n",
       "8611       8,750\n",
       "8612      24,962\n",
       "8613       8,750\n",
       "Name: dl_sub_$, Length: 8614, dtype: float64"
      ]
     },
     "execution_count": 25,
     "metadata": {},
     "output_type": "execute_result"
    }
   ],
   "source": [
    "## call the dl_sub_$ as a series\n",
    "df[\"dl_sub_$\"]"
   ]
  },
  {
   "cell_type": "code",
   "execution_count": 26,
   "id": "b2ae9a23-33d9-4108-a465-852c5335648e",
   "metadata": {},
   "outputs": [
    {
     "data": {
      "text/html": [
       "<div>\n",
       "<style scoped>\n",
       "    .dataframe tbody tr th:only-of-type {\n",
       "        vertical-align: middle;\n",
       "    }\n",
       "\n",
       "    .dataframe tbody tr th {\n",
       "        vertical-align: top;\n",
       "    }\n",
       "\n",
       "    .dataframe thead th {\n",
       "        text-align: right;\n",
       "    }\n",
       "</style>\n",
       "<table border=\"1\" class=\"dataframe\">\n",
       "  <thead>\n",
       "    <tr style=\"text-align: right;\">\n",
       "      <th></th>\n",
       "      <th>dl_sub_$</th>\n",
       "    </tr>\n",
       "  </thead>\n",
       "  <tbody>\n",
       "    <tr>\n",
       "      <th>sum</th>\n",
       "      <td>9,877,712,740</td>\n",
       "    </tr>\n",
       "    <tr>\n",
       "      <th>median</th>\n",
       "      <td>219,557</td>\n",
       "    </tr>\n",
       "    <tr>\n",
       "      <th>max</th>\n",
       "      <td>52,003,984</td>\n",
       "    </tr>\n",
       "  </tbody>\n",
       "</table>\n",
       "</div>"
      ],
      "text/plain": [
       "            dl_sub_$\n",
       "sum    9,877,712,740\n",
       "median       219,557\n",
       "max       52,003,984"
      ]
     },
     "execution_count": 26,
     "metadata": {},
     "output_type": "execute_result"
    }
   ],
   "source": [
    "## multiple aggregation single column\n",
    "df[[\"dl_sub_$\"]].agg([\"sum\", \"median\", \"max\" ])"
   ]
  },
  {
   "cell_type": "code",
   "execution_count": 27,
   "id": "ae2f95a6-dcea-4956-a7d6-dbb08107e101",
   "metadata": {},
   "outputs": [
    {
     "data": {
      "text/html": [
       "<div>\n",
       "<style scoped>\n",
       "    .dataframe tbody tr th:only-of-type {\n",
       "        vertical-align: middle;\n",
       "    }\n",
       "\n",
       "    .dataframe tbody tr th {\n",
       "        vertical-align: top;\n",
       "    }\n",
       "\n",
       "    .dataframe thead th {\n",
       "        text-align: right;\n",
       "    }\n",
       "</style>\n",
       "<table border=\"1\" class=\"dataframe\">\n",
       "  <thead>\n",
       "    <tr style=\"text-align: right;\">\n",
       "      <th></th>\n",
       "      <th>Direct Subsidized Loans</th>\n",
       "    </tr>\n",
       "  </thead>\n",
       "  <tbody>\n",
       "    <tr>\n",
       "      <th>sum</th>\n",
       "      <td>9,877,712,740</td>\n",
       "    </tr>\n",
       "    <tr>\n",
       "      <th>median</th>\n",
       "      <td>219,557</td>\n",
       "    </tr>\n",
       "    <tr>\n",
       "      <th>max</th>\n",
       "      <td>52,003,984</td>\n",
       "    </tr>\n",
       "  </tbody>\n",
       "</table>\n",
       "</div>"
      ],
      "text/plain": [
       "        Direct Subsidized Loans\n",
       "sum               9,877,712,740\n",
       "median                  219,557\n",
       "max                  52,003,984"
      ]
     },
     "execution_count": 27,
     "metadata": {},
     "output_type": "execute_result"
    }
   ],
   "source": [
    "## multiple aggreation to frame\n",
    "df[\"dl_sub_$\"].agg([\"sum\", \"median\", \"max\" ]).to_frame(\"Direct Subsidized Loans\")"
   ]
  },
  {
   "cell_type": "code",
   "execution_count": 28,
   "id": "07d9ddc7-e01d-4340-baf3-fae6394bfa78",
   "metadata": {},
   "outputs": [],
   "source": [
    "## create a list of target stats\n",
    "\n",
    "target_stats = [\"sum\", \"mean\", \"median\", \"std\"]"
   ]
  },
  {
   "cell_type": "code",
   "execution_count": 29,
   "id": "68724b98-1501-4ca5-8444-435e3a865d8f",
   "metadata": {},
   "outputs": [
    {
     "data": {
      "text/plain": [
       "str"
      ]
     },
     "execution_count": 29,
     "metadata": {},
     "output_type": "execute_result"
    }
   ],
   "source": [
    "type(target_stats[0])"
   ]
  },
  {
   "cell_type": "code",
   "execution_count": 30,
   "id": "1bf95b4d-ee94-46b9-8b02-a02f3834ea4b",
   "metadata": {},
   "outputs": [
    {
     "data": {
      "text/html": [
       "<div>\n",
       "<style scoped>\n",
       "    .dataframe tbody tr th:only-of-type {\n",
       "        vertical-align: middle;\n",
       "    }\n",
       "\n",
       "    .dataframe tbody tr th {\n",
       "        vertical-align: top;\n",
       "    }\n",
       "\n",
       "    .dataframe thead th {\n",
       "        text-align: right;\n",
       "    }\n",
       "</style>\n",
       "<table border=\"1\" class=\"dataframe\">\n",
       "  <thead>\n",
       "    <tr style=\"text-align: right;\">\n",
       "      <th></th>\n",
       "      <th>Direct Subsidized Loans</th>\n",
       "    </tr>\n",
       "  </thead>\n",
       "  <tbody>\n",
       "    <tr>\n",
       "      <th>sum</th>\n",
       "      <td>9,877,712,740</td>\n",
       "    </tr>\n",
       "    <tr>\n",
       "      <th>mean</th>\n",
       "      <td>1,239,051</td>\n",
       "    </tr>\n",
       "    <tr>\n",
       "      <th>median</th>\n",
       "      <td>219,557</td>\n",
       "    </tr>\n",
       "    <tr>\n",
       "      <th>std</th>\n",
       "      <td>2,814,541</td>\n",
       "    </tr>\n",
       "  </tbody>\n",
       "</table>\n",
       "</div>"
      ],
      "text/plain": [
       "        Direct Subsidized Loans\n",
       "sum               9,877,712,740\n",
       "mean                  1,239,051\n",
       "median                  219,557\n",
       "std                   2,814,541"
      ]
     },
     "execution_count": 30,
     "metadata": {},
     "output_type": "execute_result"
    }
   ],
   "source": [
    "df[\"dl_sub_$\"].agg(target_stats).to_frame(\"Direct Subsidized Loans\")"
   ]
  },
  {
   "cell_type": "code",
   "execution_count": null,
   "id": "9a082f60-8b7b-43a9-bfe6-b935a17e21f5",
   "metadata": {},
   "outputs": [],
   "source": [
    "## Multiple columns with multiple statistical summaries\n",
    "## dataframe[[\"col_1\", \"col_2\"]].agg([\"mean\",\"sum\"])"
   ]
  },
  {
   "cell_type": "code",
   "execution_count": 31,
   "id": "4b28bdd6-e474-42cb-ab3f-c7d797d133bc",
   "metadata": {},
   "outputs": [
    {
     "data": {
      "text/html": [
       "<div>\n",
       "<style scoped>\n",
       "    .dataframe tbody tr th:only-of-type {\n",
       "        vertical-align: middle;\n",
       "    }\n",
       "\n",
       "    .dataframe tbody tr th {\n",
       "        vertical-align: top;\n",
       "    }\n",
       "\n",
       "    .dataframe thead th {\n",
       "        text-align: right;\n",
       "    }\n",
       "</style>\n",
       "<table border=\"1\" class=\"dataframe\">\n",
       "  <thead>\n",
       "    <tr style=\"text-align: right;\">\n",
       "      <th></th>\n",
       "      <th>dl_sub_$</th>\n",
       "      <th>dl_unsub_$</th>\n",
       "    </tr>\n",
       "  </thead>\n",
       "  <tbody>\n",
       "    <tr>\n",
       "      <th>sum</th>\n",
       "      <td>9,877,712,740</td>\n",
       "      <td>10,740,802,223</td>\n",
       "    </tr>\n",
       "    <tr>\n",
       "      <th>mean</th>\n",
       "      <td>1,239,051</td>\n",
       "      <td>1,346,809</td>\n",
       "    </tr>\n",
       "    <tr>\n",
       "      <th>median</th>\n",
       "      <td>219,557</td>\n",
       "      <td>252,780</td>\n",
       "    </tr>\n",
       "    <tr>\n",
       "      <th>std</th>\n",
       "      <td>2,814,541</td>\n",
       "      <td>3,127,407</td>\n",
       "    </tr>\n",
       "  </tbody>\n",
       "</table>\n",
       "</div>"
      ],
      "text/plain": [
       "            dl_sub_$     dl_unsub_$\n",
       "sum    9,877,712,740 10,740,802,223\n",
       "mean       1,239,051      1,346,809\n",
       "median       219,557        252,780\n",
       "std        2,814,541      3,127,407"
      ]
     },
     "execution_count": 31,
     "metadata": {},
     "output_type": "execute_result"
    }
   ],
   "source": [
    "## multiple columns\n",
    "## note the double brackets because we are passing a list of columns - Automatic to frame\n",
    "df[[\"dl_sub_$\", \"dl_unsub_$\"]].agg(target_stats)"
   ]
  }
 ],
 "metadata": {
  "kernelspec": {
   "display_name": "Python 3 (ipykernel)",
   "language": "python",
   "name": "python3"
  },
  "language_info": {
   "codemirror_mode": {
    "name": "ipython",
    "version": 3
   },
   "file_extension": ".py",
   "mimetype": "text/x-python",
   "name": "python",
   "nbconvert_exporter": "python",
   "pygments_lexer": "ipython3",
   "version": "3.12.7"
  }
 },
 "nbformat": 4,
 "nbformat_minor": 5
}
